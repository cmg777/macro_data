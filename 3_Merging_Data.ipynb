{
 "cells": [
  {
   "cell_type": "markdown",
   "metadata": {},
   "source": [
    "# 3. Merging Datasets"
   ]
  },
  {
   "cell_type": "code",
   "execution_count": 1,
   "metadata": {},
   "outputs": [],
   "source": [
    "import numpy as np\n",
    "import pandas as pd\n",
    "import matplotlib.pyplot as plt\n",
    "import seaborn as sns"
   ]
  },
  {
   "cell_type": "code",
   "execution_count": 2,
   "metadata": {},
   "outputs": [],
   "source": [
    "import warnings\n",
    "warnings.filterwarnings('ignore')"
   ]
  },
  {
   "cell_type": "code",
   "execution_count": 3,
   "metadata": {},
   "outputs": [],
   "source": [
    "%matplotlib inline\n",
    "sns.set(style='ticks', font_scale=1.3)\n",
    "plt.rcParams['figure.figsize'] = (8, 6)\n",
    "plt.rcParams['axes.spines.top'] = False\n",
    "plt.rcParams['axes.spines.right'] = False"
   ]
  },
  {
   "cell_type": "markdown",
   "metadata": {},
   "source": [
    "## Load in Penn World Tables"
   ]
  },
  {
   "cell_type": "markdown",
   "metadata": {},
   "source": [
    "Let's start by loading in the Penn World Tables Data"
   ]
  },
  {
   "cell_type": "code",
   "execution_count": 4,
   "metadata": {
    "scrolled": true
   },
   "outputs": [
    {
     "data": {
      "text/html": [
       "<div>\n",
       "<style scoped>\n",
       "    .dataframe tbody tr th:only-of-type {\n",
       "        vertical-align: middle;\n",
       "    }\n",
       "\n",
       "    .dataframe tbody tr th {\n",
       "        vertical-align: top;\n",
       "    }\n",
       "\n",
       "    .dataframe thead th {\n",
       "        text-align: right;\n",
       "    }\n",
       "</style>\n",
       "<table border=\"1\" class=\"dataframe\">\n",
       "  <thead>\n",
       "    <tr style=\"text-align: right;\">\n",
       "      <th></th>\n",
       "      <th>year</th>\n",
       "      <th>countrycode</th>\n",
       "      <th>rgdpna</th>\n",
       "      <th>pop</th>\n",
       "      <th>hc</th>\n",
       "      <th>avh</th>\n",
       "    </tr>\n",
       "  </thead>\n",
       "  <tbody>\n",
       "    <tr>\n",
       "      <th>325</th>\n",
       "      <td>1950</td>\n",
       "      <td>ARG</td>\n",
       "      <td>153269.500000</td>\n",
       "      <td>17.158029</td>\n",
       "      <td>1.816503</td>\n",
       "      <td>2034.000000</td>\n",
       "    </tr>\n",
       "    <tr>\n",
       "      <th>326</th>\n",
       "      <td>1951</td>\n",
       "      <td>ARG</td>\n",
       "      <td>162321.859375</td>\n",
       "      <td>17.525200</td>\n",
       "      <td>1.830769</td>\n",
       "      <td>2037.866753</td>\n",
       "    </tr>\n",
       "    <tr>\n",
       "      <th>327</th>\n",
       "      <td>1952</td>\n",
       "      <td>ARG</td>\n",
       "      <td>152653.734375</td>\n",
       "      <td>17.884976</td>\n",
       "      <td>1.845147</td>\n",
       "      <td>2041.740856</td>\n",
       "    </tr>\n",
       "    <tr>\n",
       "      <th>328</th>\n",
       "      <td>1953</td>\n",
       "      <td>ARG</td>\n",
       "      <td>159095.500000</td>\n",
       "      <td>18.238994</td>\n",
       "      <td>1.859638</td>\n",
       "      <td>2045.622325</td>\n",
       "    </tr>\n",
       "    <tr>\n",
       "      <th>329</th>\n",
       "      <td>1954</td>\n",
       "      <td>ARG</td>\n",
       "      <td>164275.734375</td>\n",
       "      <td>18.588894</td>\n",
       "      <td>1.874243</td>\n",
       "      <td>2049.511172</td>\n",
       "    </tr>\n",
       "  </tbody>\n",
       "</table>\n",
       "</div>"
      ],
      "text/plain": [
       "     year countrycode         rgdpna        pop        hc          avh\n",
       "325  1950         ARG  153269.500000  17.158029  1.816503  2034.000000\n",
       "326  1951         ARG  162321.859375  17.525200  1.830769  2037.866753\n",
       "327  1952         ARG  152653.734375  17.884976  1.845147  2041.740856\n",
       "328  1953         ARG  159095.500000  18.238994  1.859638  2045.622325\n",
       "329  1954         ARG  164275.734375  18.588894  1.874243  2049.511172"
      ]
     },
     "execution_count": 4,
     "metadata": {},
     "output_type": "execute_result"
    }
   ],
   "source": [
    "pwt = pd.read_excel('data/pwt90.xlsx', sheet_name='Data')\n",
    "pwt = pwt[['year', 'countrycode', 'rgdpna', 'pop', 'hc', 'avh']].dropna()\n",
    "pwt.head()"
   ]
  },
  {
   "cell_type": "markdown",
   "metadata": {},
   "source": [
    "## Load in World Bank inequality data"
   ]
  },
  {
   "cell_type": "markdown",
   "metadata": {},
   "source": [
    "Now we load in a second dataset that we wish to merge with the PWT. Here we will use the World Bank data on global inequality, which has Gini coefficient data for a larget set of countries over many years."
   ]
  },
  {
   "cell_type": "code",
   "execution_count": 5,
   "metadata": {
    "scrolled": true
   },
   "outputs": [
    {
     "data": {
      "text/html": [
       "<div>\n",
       "<style scoped>\n",
       "    .dataframe tbody tr th:only-of-type {\n",
       "        vertical-align: middle;\n",
       "    }\n",
       "\n",
       "    .dataframe tbody tr th {\n",
       "        vertical-align: top;\n",
       "    }\n",
       "\n",
       "    .dataframe thead th {\n",
       "        text-align: right;\n",
       "    }\n",
       "</style>\n",
       "<table border=\"1\" class=\"dataframe\">\n",
       "  <thead>\n",
       "    <tr style=\"text-align: right;\">\n",
       "      <th></th>\n",
       "      <th>countrycode</th>\n",
       "      <th>year</th>\n",
       "      <th>gini</th>\n",
       "    </tr>\n",
       "  </thead>\n",
       "  <tbody>\n",
       "    <tr>\n",
       "      <th>0</th>\n",
       "      <td>AGO</td>\n",
       "      <td>2008</td>\n",
       "      <td>42.7</td>\n",
       "    </tr>\n",
       "    <tr>\n",
       "      <th>1</th>\n",
       "      <td>ALB</td>\n",
       "      <td>1996</td>\n",
       "      <td>27.0</td>\n",
       "    </tr>\n",
       "    <tr>\n",
       "      <th>2</th>\n",
       "      <td>ALB</td>\n",
       "      <td>2002</td>\n",
       "      <td>31.7</td>\n",
       "    </tr>\n",
       "    <tr>\n",
       "      <th>3</th>\n",
       "      <td>ALB</td>\n",
       "      <td>2005</td>\n",
       "      <td>30.6</td>\n",
       "    </tr>\n",
       "    <tr>\n",
       "      <th>4</th>\n",
       "      <td>ALB</td>\n",
       "      <td>2008</td>\n",
       "      <td>30.0</td>\n",
       "    </tr>\n",
       "  </tbody>\n",
       "</table>\n",
       "</div>"
      ],
      "text/plain": [
       "  countrycode  year  gini\n",
       "0         AGO  2008  42.7\n",
       "1         ALB  1996  27.0\n",
       "2         ALB  2002  31.7\n",
       "3         ALB  2005  30.6\n",
       "4         ALB  2008  30.0"
      ]
     },
     "execution_count": 5,
     "metadata": {},
     "output_type": "execute_result"
    }
   ],
   "source": [
    "gini = pd.read_excel('data/world_bank_gini.xls')\n",
    "gini.head()"
   ]
  },
  {
   "cell_type": "markdown",
   "metadata": {},
   "source": [
    "We can see that the World Bank data doesn't appear every year for many countries."
   ]
  },
  {
   "cell_type": "code",
   "execution_count": 53,
   "metadata": {},
   "outputs": [
    {
     "data": {
      "image/png": "[encoded data removed]",
      "text/plain": [
       "<Figure size 576x432 with 1 Axes>"
      ]
     },
     "metadata": {},
     "output_type": "display_data"
    }
   ],
   "source": [
    "gini_pan = gini.pivot('year', 'countrycode')['gini']\n",
    "gini_pan['VNM'].dropna().plot(marker='o');"
   ]
  },
  {
   "cell_type": "markdown",
   "metadata": {},
   "source": [
    "## Merge the two together"
   ]
  },
  {
   "cell_type": "markdown",
   "metadata": {},
   "source": [
    "Finally, we want to merge these two together. To do this, we will match any rows that have the same value for both `year` and `countrycode`."
   ]
  },
  {
   "cell_type": "code",
   "execution_count": 7,
   "metadata": {
    "scrolled": true
   },
   "outputs": [
    {
     "data": {
      "text/html": [
       "<div>\n",
       "<style scoped>\n",
       "    .dataframe tbody tr th:only-of-type {\n",
       "        vertical-align: middle;\n",
       "    }\n",
       "\n",
       "    .dataframe tbody tr th {\n",
       "        vertical-align: top;\n",
       "    }\n",
       "\n",
       "    .dataframe thead th {\n",
       "        text-align: right;\n",
       "    }\n",
       "</style>\n",
       "<table border=\"1\" class=\"dataframe\">\n",
       "  <thead>\n",
       "    <tr style=\"text-align: right;\">\n",
       "      <th></th>\n",
       "      <th>year</th>\n",
       "      <th>countrycode</th>\n",
       "      <th>rgdpna</th>\n",
       "      <th>pop</th>\n",
       "      <th>hc</th>\n",
       "      <th>avh</th>\n",
       "      <th>gini</th>\n",
       "    </tr>\n",
       "  </thead>\n",
       "  <tbody>\n",
       "    <tr>\n",
       "      <th>0</th>\n",
       "      <td>1950</td>\n",
       "      <td>ARG</td>\n",
       "      <td>153269.500000</td>\n",
       "      <td>17.158029</td>\n",
       "      <td>1.816503</td>\n",
       "      <td>2034.000000</td>\n",
       "      <td>NaN</td>\n",
       "    </tr>\n",
       "    <tr>\n",
       "      <th>1</th>\n",
       "      <td>1951</td>\n",
       "      <td>ARG</td>\n",
       "      <td>162321.859375</td>\n",
       "      <td>17.525200</td>\n",
       "      <td>1.830769</td>\n",
       "      <td>2037.866753</td>\n",
       "      <td>NaN</td>\n",
       "    </tr>\n",
       "    <tr>\n",
       "      <th>2</th>\n",
       "      <td>1952</td>\n",
       "      <td>ARG</td>\n",
       "      <td>152653.734375</td>\n",
       "      <td>17.884976</td>\n",
       "      <td>1.845147</td>\n",
       "      <td>2041.740856</td>\n",
       "      <td>NaN</td>\n",
       "    </tr>\n",
       "    <tr>\n",
       "      <th>3</th>\n",
       "      <td>1953</td>\n",
       "      <td>ARG</td>\n",
       "      <td>159095.500000</td>\n",
       "      <td>18.238994</td>\n",
       "      <td>1.859638</td>\n",
       "      <td>2045.622325</td>\n",
       "      <td>NaN</td>\n",
       "    </tr>\n",
       "    <tr>\n",
       "      <th>4</th>\n",
       "      <td>1954</td>\n",
       "      <td>ARG</td>\n",
       "      <td>164275.734375</td>\n",
       "      <td>18.588894</td>\n",
       "      <td>1.874243</td>\n",
       "      <td>2049.511172</td>\n",
       "      <td>NaN</td>\n",
       "    </tr>\n",
       "  </tbody>\n",
       "</table>\n",
       "</div>"
      ],
      "text/plain": [
       "   year countrycode         rgdpna        pop        hc          avh  gini\n",
       "0  1950         ARG  153269.500000  17.158029  1.816503  2034.000000   NaN\n",
       "1  1951         ARG  162321.859375  17.525200  1.830769  2037.866753   NaN\n",
       "2  1952         ARG  152653.734375  17.884976  1.845147  2041.740856   NaN\n",
       "3  1953         ARG  159095.500000  18.238994  1.859638  2045.622325   NaN\n",
       "4  1954         ARG  164275.734375  18.588894  1.874243  2049.511172   NaN"
      ]
     },
     "execution_count": 7,
     "metadata": {},
     "output_type": "execute_result"
    }
   ],
   "source": [
    "full = pd.merge(pwt, gini, how='left', on=('year', 'countrycode'))\n",
    "full.head()"
   ]
  },
  {
   "cell_type": "markdown",
   "metadata": {},
   "source": [
    "Now we can see how the Gini coefficient relates to other variables, like GDP per capita"
   ]
  },
  {
   "cell_type": "code",
   "execution_count": 50,
   "metadata": {},
   "outputs": [
    {
     "data": {
      "image/png": "[encoded data removed]",
      "text/plain": [
       "<Figure size 432x432 with 3 Axes>"
      ]
     },
     "metadata": {},
     "output_type": "display_data"
    }
   ],
   "source": [
    "full['lgdp_per'] = np.log(full['rgdpna']/full['pop'])\n",
    "sns.jointplot('lgdp_per', 'gini', kind='reg', data=full);"
   ]
  },
  {
   "cell_type": "code",
   "execution_count": null,
   "metadata": {},
   "outputs": [],
   "source": []
  }
 ],
 "metadata": {
  "kernelspec": {
   "display_name": "Python 3.6",
   "language": "python",
   "name": "python3.6"
  },
  "language_info": {
   "codemirror_mode": {
    "name": "ipython",
    "version": 3
   },
   "file_extension": ".py",
   "mimetype": "text/x-python",
   "name": "python",
   "nbconvert_exporter": "python",
   "pygments_lexer": "ipython3",
   "version": "3.6.8"
  }
 },
 "nbformat": 4,
 "nbformat_minor": 2
}
